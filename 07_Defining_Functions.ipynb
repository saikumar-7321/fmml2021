{
  "nbformat": 4,
  "nbformat_minor": 0,
  "metadata": {
    "colab": {
      "name": "07_Defining_Functions.ipynb",
      "provenance": [],
      "include_colab_link": true
    },
    "kernelspec": {
      "name": "python3",
      "display_name": "Python 3"
    },
    "language_info": {
      "name": "python"
    }
  },
  "cells": [
    {
      "cell_type": "markdown",
      "metadata": {
        "id": "view-in-github",
        "colab_type": "text"
      },
      "source": [
        "<a href=\"https://colab.research.google.com/github/saikumar-7321/fmml2021/blob/main/07_Defining_Functions.ipynb\" target=\"_parent\"><img src=\"https://colab.research.google.com/assets/colab-badge.svg\" alt=\"Open In Colab\"/></a>"
      ]
    },
    {
      "cell_type": "code",
      "metadata": {
        "id": "1pqsgNqwnbHE"
      },
      "source": [
        "def inList (my_char, my_list=['a','e','i','o','u']):\n",
        "  \"\"\" this is a function to check whether a char is vowel or not \"\"\"\n",
        "  for each_char in my_list:\n",
        "    if each_char == my_char.lower():\n",
        "      return True\n",
        "  return False"
      ],
      "execution_count": null,
      "outputs": []
    },
    {
      "cell_type": "code",
      "metadata": {
        "id": "SLpNGCWYn6Er"
      },
      "source": [
        "inList('Z', ['x', 'y', 'z'])"
      ],
      "execution_count": null,
      "outputs": []
    },
    {
      "cell_type": "code",
      "metadata": {
        "id": "r_KUNOW3rCc6"
      },
      "source": [
        "# Write a function to check whether a given number belongs to fibonacci series or not"
      ],
      "execution_count": null,
      "outputs": []
    },
    {
      "cell_type": "code",
      "metadata": {
        "id": "G54UTAOIJf1W"
      },
      "source": [
        "# python program to check if x is a perfect square\n",
        "import math\n",
        " \n",
        "# A utility function that returns true if x is perfect square\n",
        "def isPerfectSquare(x):\n",
        "    s = int(math.sqrt(x))\n",
        "    return s*s == x\n",
        " \n",
        "# Returns true if n is a Fibinacci Number, else false\n",
        "def isFibonacci(n):\n",
        " \n",
        "    # n is Fibinacci if one of 5*n*n + 4 or 5*n*n - 4 or both\n",
        "    # is a perferct square\n",
        "    return isPerfectSquare(5*n*n + 4) or isPerfectSquare(5*n*n - 4)\n",
        "    \n",
        "    if (isPerfectSquare(i) == True):\n",
        "        print (i,\"is a Fibonacci Number\")\n",
        "    else:\n",
        "        print (i,\"is a not Fibonacci Number \")"
      ],
      "execution_count": 6,
      "outputs": []
    },
    {
      "cell_type": "code",
      "metadata": {
        "id": "tjm-rwNUKo6k",
        "outputId": "e692ce8e-eebd-45eb-96aa-907014c7a81d",
        "colab": {
          "base_uri": "https://localhost:8080/"
        }
      },
      "source": [
        "isFibonacci(4)"
      ],
      "execution_count": 8,
      "outputs": [
        {
          "output_type": "execute_result",
          "data": {
            "text/plain": [
              "False"
            ]
          },
          "metadata": {},
          "execution_count": 8
        }
      ]
    },
    {
      "cell_type": "markdown",
      "metadata": {
        "id": "3hfExC9BPkKK"
      },
      "source": [
        "Reference: [Python Documentation on Functions](https://docs.python.org/3/tutorial/controlflow.html#defining-functions)"
      ]
    }
  ]
}